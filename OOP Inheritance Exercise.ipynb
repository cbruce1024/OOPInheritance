{
 "cells": [
  {
   "cell_type": "code",
   "execution_count": 3,
   "id": "dd3b67b8",
   "metadata": {},
   "outputs": [],
   "source": [
    "class Person:\n",
    "    def __init__(self, firstName, lastName, idNumber):\n",
    "        self.firstName = firstName\n",
    "        self.lastName = lastName\n",
    "        self.idNumber = idNumber\n",
    "\n",
    "class Student(Person):\n",
    "    def __init__(self, firstName, lastName, idNumber, scores):\n",
    "        super().__init__(firstName, lastName, idNumber)\n",
    "        self.scores = scores\n",
    "\n",
    "    def calculate(self):\n",
    "        average = sum(self.scores) / len(self.scores)\n",
    "        if 90 <= average <= 100:\n",
    "            return 'A'\n",
    "        elif 80 <= average < 90:\n",
    "            return 'B'\n",
    "        elif 70 <= average < 80:\n",
    "            return 'C'\n",
    "        elif 60 <= average < 70:\n",
    "            return 'D'\n",
    "        else:\n",
    "            return 'F'\n"
   ]
  },
  {
   "cell_type": "code",
   "execution_count": 4,
   "id": "f9afa2fb",
   "metadata": {},
   "outputs": [
    {
     "name": "stdout",
     "output_type": "stream",
     "text": [
      "B\n"
     ]
    }
   ],
   "source": [
    "\n",
    "student = Student(\"Casey\", \"Bruce\", 12345, [80, 99, 91, 81, 60])\n",
    "print(student.calculate())"
   ]
  },
  {
   "cell_type": "code",
   "execution_count": null,
   "id": "15ac9ccd",
   "metadata": {},
   "outputs": [],
   "source": []
  }
 ],
 "metadata": {
  "kernelspec": {
   "display_name": "Python 3 (ipykernel)",
   "language": "python",
   "name": "python3"
  },
  "language_info": {
   "codemirror_mode": {
    "name": "ipython",
    "version": 3
   },
   "file_extension": ".py",
   "mimetype": "text/x-python",
   "name": "python",
   "nbconvert_exporter": "python",
   "pygments_lexer": "ipython3",
   "version": "3.8.18"
  }
 },
 "nbformat": 4,
 "nbformat_minor": 5
}
